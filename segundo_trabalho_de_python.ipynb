{
  "nbformat": 4,
  "nbformat_minor": 0,
  "metadata": {
    "colab": {
      "provenance": [],
      "include_colab_link": true
    },
    "kernelspec": {
      "name": "python3",
      "display_name": "Python 3"
    },
    "language_info": {
      "name": "python"
    }
  },
  "cells": [
    {
      "cell_type": "markdown",
      "metadata": {
        "id": "view-in-github",
        "colab_type": "text"
      },
      "source": [
        "<a href=\"https://colab.research.google.com/github/jessicaalmeidadeoliveiradede/colab-py/blob/main/segundo_trabalho_de_python.ipynb\" target=\"_parent\"><img src=\"https://colab.research.google.com/assets/colab-badge.svg\" alt=\"Open In Colab\"/></a>"
      ]
    },
    {
      "cell_type": "code",
      "source": [
        "id_cliente=int (input(\"digite o id_cliente\"))\n",
        "nome_cliente=str(input(\"digite o nome_cliente\"))\n",
        "data_vencimento=int(input(\"qual e data_vencimento do seu boleto\"))\n",
        "valor=float(input(\"qual e o valor do a seu boleto\"))\n",
        "email=str(input(\"qual o seu email\"))\n",
        "print(\"qual que o valor {}\",valor) \n",
        "print(\"você resbera o seu boleto por email{}\",email)\n",
        "print(\"se o valor não for pago no praso voce tera uma acrecimo {2%}\",valor)\n",
        "\n",
        "\n",
        "\n",
        "\n",
        "\n",
        "\n",
        " \n",
        "\n",
        "\n",
        " "
      ],
      "metadata": {
        "id": "JYuIcgJUpRST",
        "colab": {
          "base_uri": "https://localhost:8080/"
        },
        "outputId": "31fad1f7-ec3f-40cf-c5d5-5afd8dfe2401"
      },
      "execution_count": null,
      "outputs": [
        {
          "output_type": "stream",
          "name": "stdout",
          "text": [
            "digite o id_cliente26\n",
            "digite o nome_clientecamilo\n",
            "qual e data_vencimento do seu boleto10\n",
            "qual e o valor do a seu boleto50\n",
            "qual o seu emaillelisreis@yahoo.com\n",
            "qual que o valor {} 50.0\n",
            "você resbera o seu boleto por email{} lelisreis@yahoo.com\n",
            "se o valor não for pago no praso voce tera uma acrecimo {2%} 50.0\n"
          ]
        }
      ]
    }
  ]
}